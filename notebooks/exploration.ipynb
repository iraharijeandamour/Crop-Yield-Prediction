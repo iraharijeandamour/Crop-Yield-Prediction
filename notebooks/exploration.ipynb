{
 "cells": [
  {
   "cell_type": "markdown",
   "id": "2bc24487",
   "metadata": {},
   "source": [
    "**Problem Definition**\n",
    "\n",
    "A Given Farming Cooperative Has a Past amount of Agriculture Production Data and they Want to deliver some insights from these data about how they are working, what they need to change, which crops are providing a massive production, which crops are down in harvest,\n",
    "How climate changes is affecting the production,on which crops Irrigation can Be used more and why?, How can they increase Yields per hectare for each crops, what can they do to increase production in general.\n",
    "\n",
    "**How Good Final Solution Would look Like?**\n",
    "1. Delivering Insights about Crops Production Improvement\n",
    "2. Possible Solution To Be Taken To Mitigate Negative Impact Of Climate Changes  On Crop Production.\n",
    "3. Addressing Effect Of Using Fertilizers and Irrigation."
   ]
  },
  {
   "cell_type": "markdown",
   "id": "cf3810a5",
   "metadata": {},
   "source": [
    "**Data Collection**\n",
    "\n",
    "Dataset which is used here downloaded from kaggle.com, the original data set contains 1000,000 of rows, so i got 30% of the data as sample to use in this project.\n",
    "Dataset was cleaned which means there is no lot about data cleaning, but we still have to preprocess data before fitting it to Linear Regression Model."
   ]
  },
  {
   "cell_type": "code",
   "execution_count": 55,
   "id": "2797039e",
   "metadata": {},
   "outputs": [],
   "source": [
    "import pandas as pd\n",
    "import numpy as np\n",
    "from matplotlib import pyplot as plt\n",
    "import missingno as mso\n",
    "import seaborn as sns\n",
    "from scipy.stats import pearsonr\n",
    "from scipy import stats\n",
    "from statsmodels.stats.multicomp import pairwise_tukeyhsd\n",
    "\n"
   ]
  },
  {
   "cell_type": "markdown",
   "id": "9179c3d5",
   "metadata": {},
   "source": [
    "Reading Data From The Source"
   ]
  },
  {
   "cell_type": "code",
   "execution_count": 2,
   "id": "f6962707",
   "metadata": {},
   "outputs": [],
   "source": [
    "df = pd.read_csv(r'D:\\All_Projects\\Econometrics_Practice\\data\\raw_data\\crop_yield.csv')"
   ]
  },
  {
   "cell_type": "code",
   "execution_count": 4,
   "id": "2b6372f4",
   "metadata": {},
   "outputs": [
    {
     "data": {
      "application/vnd.microsoft.datawrangler.viewer.v0+json": {
       "columns": [
        {
         "name": "index",
         "rawType": "int64",
         "type": "integer"
        },
        {
         "name": "Unnamed: 0",
         "rawType": "int64",
         "type": "integer"
        },
        {
         "name": "Region",
         "rawType": "object",
         "type": "string"
        },
        {
         "name": "Soil_Type",
         "rawType": "object",
         "type": "string"
        },
        {
         "name": "Crop",
         "rawType": "object",
         "type": "string"
        },
        {
         "name": "Rainfall_mm",
         "rawType": "float64",
         "type": "float"
        },
        {
         "name": "Temperature_Celsius",
         "rawType": "float64",
         "type": "float"
        },
        {
         "name": "Fertilizer_Used",
         "rawType": "bool",
         "type": "boolean"
        },
        {
         "name": "Irrigation_Used",
         "rawType": "bool",
         "type": "boolean"
        },
        {
         "name": "Weather_Condition",
         "rawType": "object",
         "type": "string"
        },
        {
         "name": "Days_to_Harvest",
         "rawType": "int64",
         "type": "integer"
        },
        {
         "name": "Yield_tons_per_hectare",
         "rawType": "float64",
         "type": "float"
        }
       ],
       "ref": "5a534dd9-d7b3-4b7a-b486-cfa73ed4ced3",
       "rows": [
        [
         "0",
         "220204",
         "North",
         "Chalky",
         "Maize",
         "676.9782118308045",
         "16.811721687072442",
         "False",
         "False",
         "Rainy",
         "117",
         "4.505291294879509"
        ],
        [
         "1",
         "669381",
         "South",
         "Loam",
         "Cotton",
         "965.1788327593878",
         "37.331926261988",
         "False",
         "True",
         "Rainy",
         "134",
         "7.155131906621406"
        ],
        [
         "2",
         "801941",
         "North",
         "Peaty",
         "Barley",
         "619.4187972763842",
         "18.318037726365592",
         "False",
         "True",
         "Cloudy",
         "97",
         "5.298954329612731"
        ],
        [
         "3",
         "673885",
         "South",
         "Loam",
         "Maize",
         "160.1061844444364",
         "38.14205256145322",
         "False",
         "False",
         "Sunny",
         "141",
         "1.6523560858058706"
        ],
        [
         "4",
         "389823",
         "East",
         "Clay",
         "Cotton",
         "940.097532470672",
         "21.723534888294708",
         "False",
         "False",
         "Rainy",
         "117",
         "5.824153555941789"
        ]
       ],
       "shape": {
        "columns": 11,
        "rows": 5
       }
      },
      "text/html": [
       "<div>\n",
       "<style scoped>\n",
       "    .dataframe tbody tr th:only-of-type {\n",
       "        vertical-align: middle;\n",
       "    }\n",
       "\n",
       "    .dataframe tbody tr th {\n",
       "        vertical-align: top;\n",
       "    }\n",
       "\n",
       "    .dataframe thead th {\n",
       "        text-align: right;\n",
       "    }\n",
       "</style>\n",
       "<table border=\"1\" class=\"dataframe\">\n",
       "  <thead>\n",
       "    <tr style=\"text-align: right;\">\n",
       "      <th></th>\n",
       "      <th>Unnamed: 0</th>\n",
       "      <th>Region</th>\n",
       "      <th>Soil_Type</th>\n",
       "      <th>Crop</th>\n",
       "      <th>Rainfall_mm</th>\n",
       "      <th>Temperature_Celsius</th>\n",
       "      <th>Fertilizer_Used</th>\n",
       "      <th>Irrigation_Used</th>\n",
       "      <th>Weather_Condition</th>\n",
       "      <th>Days_to_Harvest</th>\n",
       "      <th>Yield_tons_per_hectare</th>\n",
       "    </tr>\n",
       "  </thead>\n",
       "  <tbody>\n",
       "    <tr>\n",
       "      <th>0</th>\n",
       "      <td>220204</td>\n",
       "      <td>North</td>\n",
       "      <td>Chalky</td>\n",
       "      <td>Maize</td>\n",
       "      <td>676.978212</td>\n",
       "      <td>16.811722</td>\n",
       "      <td>False</td>\n",
       "      <td>False</td>\n",
       "      <td>Rainy</td>\n",
       "      <td>117</td>\n",
       "      <td>4.505291</td>\n",
       "    </tr>\n",
       "    <tr>\n",
       "      <th>1</th>\n",
       "      <td>669381</td>\n",
       "      <td>South</td>\n",
       "      <td>Loam</td>\n",
       "      <td>Cotton</td>\n",
       "      <td>965.178833</td>\n",
       "      <td>37.331926</td>\n",
       "      <td>False</td>\n",
       "      <td>True</td>\n",
       "      <td>Rainy</td>\n",
       "      <td>134</td>\n",
       "      <td>7.155132</td>\n",
       "    </tr>\n",
       "    <tr>\n",
       "      <th>2</th>\n",
       "      <td>801941</td>\n",
       "      <td>North</td>\n",
       "      <td>Peaty</td>\n",
       "      <td>Barley</td>\n",
       "      <td>619.418797</td>\n",
       "      <td>18.318038</td>\n",
       "      <td>False</td>\n",
       "      <td>True</td>\n",
       "      <td>Cloudy</td>\n",
       "      <td>97</td>\n",
       "      <td>5.298954</td>\n",
       "    </tr>\n",
       "    <tr>\n",
       "      <th>3</th>\n",
       "      <td>673885</td>\n",
       "      <td>South</td>\n",
       "      <td>Loam</td>\n",
       "      <td>Maize</td>\n",
       "      <td>160.106184</td>\n",
       "      <td>38.142053</td>\n",
       "      <td>False</td>\n",
       "      <td>False</td>\n",
       "      <td>Sunny</td>\n",
       "      <td>141</td>\n",
       "      <td>1.652356</td>\n",
       "    </tr>\n",
       "    <tr>\n",
       "      <th>4</th>\n",
       "      <td>389823</td>\n",
       "      <td>East</td>\n",
       "      <td>Clay</td>\n",
       "      <td>Cotton</td>\n",
       "      <td>940.097532</td>\n",
       "      <td>21.723535</td>\n",
       "      <td>False</td>\n",
       "      <td>False</td>\n",
       "      <td>Rainy</td>\n",
       "      <td>117</td>\n",
       "      <td>5.824154</td>\n",
       "    </tr>\n",
       "  </tbody>\n",
       "</table>\n",
       "</div>"
      ],
      "text/plain": [
       "   Unnamed: 0 Region Soil_Type    Crop  Rainfall_mm  Temperature_Celsius  \\\n",
       "0      220204  North    Chalky   Maize   676.978212            16.811722   \n",
       "1      669381  South      Loam  Cotton   965.178833            37.331926   \n",
       "2      801941  North     Peaty  Barley   619.418797            18.318038   \n",
       "3      673885  South      Loam   Maize   160.106184            38.142053   \n",
       "4      389823   East      Clay  Cotton   940.097532            21.723535   \n",
       "\n",
       "   Fertilizer_Used  Irrigation_Used Weather_Condition  Days_to_Harvest  \\\n",
       "0            False            False             Rainy              117   \n",
       "1            False             True             Rainy              134   \n",
       "2            False             True            Cloudy               97   \n",
       "3            False            False             Sunny              141   \n",
       "4            False            False             Rainy              117   \n",
       "\n",
       "   Yield_tons_per_hectare  \n",
       "0                4.505291  \n",
       "1                7.155132  \n",
       "2                5.298954  \n",
       "3                1.652356  \n",
       "4                5.824154  "
      ]
     },
     "execution_count": 4,
     "metadata": {},
     "output_type": "execute_result"
    }
   ],
   "source": [
    "# Observing First 5 Rows\n",
    "df.head()"
   ]
  },
  {
   "cell_type": "code",
   "execution_count": 3,
   "id": "7888cc0b",
   "metadata": {},
   "outputs": [],
   "source": [
    "# Remove Unamed Column as It is not part of The Data Set\n",
    "df.drop(\"Unnamed: 0\", axis=1, inplace=True)"
   ]
  },
  {
   "cell_type": "code",
   "execution_count": null,
   "id": "4055d3a1",
   "metadata": {},
   "outputs": [],
   "source": [
    "# Displaying Shape of Data Set\n",
    "df.shape"
   ]
  },
  {
   "cell_type": "code",
   "execution_count": null,
   "id": "97d239b4",
   "metadata": {},
   "outputs": [],
   "source": [
    "# Display Summary Statistics for Categorical Features\n",
    "df.describe(include=object)"
   ]
  },
  {
   "cell_type": "code",
   "execution_count": null,
   "id": "b404c7b5",
   "metadata": {},
   "outputs": [],
   "source": [
    "# Display Summary Statistics for Numerical Features\n",
    "df.describe(include=float)"
   ]
  },
  {
   "cell_type": "code",
   "execution_count": null,
   "id": "fff92b5a",
   "metadata": {},
   "outputs": [],
   "source": [
    "df.describe()"
   ]
  },
  {
   "cell_type": "code",
   "execution_count": null,
   "id": "3800c785",
   "metadata": {},
   "outputs": [],
   "source": [
    "# Show All Columns\n",
    "df.columns"
   ]
  },
  {
   "cell_type": "code",
   "execution_count": null,
   "id": "a548ea48",
   "metadata": {},
   "outputs": [],
   "source": [
    "# Verify if no missing values\n",
    "mso.matrix(df, color=(0.22, 0.17, 0.10), figsize=(10, 2))\n"
   ]
  },
  {
   "cell_type": "markdown",
   "id": "d3df77cd",
   "metadata": {},
   "source": [
    "Above Figure Shows That There Is No Missing Values In All Observations\\\n",
    "Data Set Is Cleaned."
   ]
  },
  {
   "cell_type": "code",
   "execution_count": 24,
   "id": "5bbfdb10",
   "metadata": {},
   "outputs": [
    {
     "data": {
      "application/vnd.microsoft.datawrangler.viewer.v0+json": {
       "columns": [
        {
         "name": "index",
         "rawType": "int64",
         "type": "integer"
        },
        {
         "name": "Crop",
         "rawType": "object",
         "type": "string"
        },
        {
         "name": "Region",
         "rawType": "int64",
         "type": "integer"
        },
        {
         "name": "Soil_Type",
         "rawType": "int64",
         "type": "integer"
        },
        {
         "name": "Rainfall_mm",
         "rawType": "int64",
         "type": "integer"
        },
        {
         "name": "Temperature_Celsius",
         "rawType": "int64",
         "type": "integer"
        },
        {
         "name": "Fertilizer_Used",
         "rawType": "int64",
         "type": "integer"
        },
        {
         "name": "Irrigation_Used",
         "rawType": "int64",
         "type": "integer"
        },
        {
         "name": "Weather_Condition",
         "rawType": "int64",
         "type": "integer"
        },
        {
         "name": "Days_to_Harvest",
         "rawType": "int64",
         "type": "integer"
        },
        {
         "name": "Yield_tons_per_hectare",
         "rawType": "int64",
         "type": "integer"
        },
        {
         "name": "Counts",
         "rawType": "int64",
         "type": "integer"
        }
       ],
       "ref": "0fedca2f-e3a7-481f-a2c7-97d2d522f49c",
       "rows": [
        [
         "0",
         "Barley",
         "49973",
         "49973",
         "49973",
         "49973",
         "49973",
         "49973",
         "49973",
         "49973",
         "49973",
         "49973"
        ],
        [
         "1",
         "Cotton",
         "50019",
         "50019",
         "50019",
         "50019",
         "50019",
         "50019",
         "50019",
         "50019",
         "50019",
         "50019"
        ],
        [
         "2",
         "Maize",
         "50248",
         "50248",
         "50248",
         "50248",
         "50248",
         "50248",
         "50248",
         "50248",
         "50248",
         "50248"
        ],
        [
         "3",
         "Rice",
         "49912",
         "49912",
         "49912",
         "49912",
         "49912",
         "49912",
         "49912",
         "49912",
         "49912",
         "49912"
        ],
        [
         "4",
         "Soybean",
         "49777",
         "49777",
         "49777",
         "49777",
         "49777",
         "49777",
         "49777",
         "49777",
         "49777",
         "49777"
        ],
        [
         "5",
         "Wheat",
         "50071",
         "50071",
         "50071",
         "50071",
         "50071",
         "50071",
         "50071",
         "50071",
         "50071",
         "50071"
        ]
       ],
       "shape": {
        "columns": 11,
        "rows": 6
       }
      },
      "text/html": [
       "<div>\n",
       "<style scoped>\n",
       "    .dataframe tbody tr th:only-of-type {\n",
       "        vertical-align: middle;\n",
       "    }\n",
       "\n",
       "    .dataframe tbody tr th {\n",
       "        vertical-align: top;\n",
       "    }\n",
       "\n",
       "    .dataframe thead th {\n",
       "        text-align: right;\n",
       "    }\n",
       "</style>\n",
       "<table border=\"1\" class=\"dataframe\">\n",
       "  <thead>\n",
       "    <tr style=\"text-align: right;\">\n",
       "      <th></th>\n",
       "      <th>Crop</th>\n",
       "      <th>Region</th>\n",
       "      <th>Soil_Type</th>\n",
       "      <th>Rainfall_mm</th>\n",
       "      <th>Temperature_Celsius</th>\n",
       "      <th>Fertilizer_Used</th>\n",
       "      <th>Irrigation_Used</th>\n",
       "      <th>Weather_Condition</th>\n",
       "      <th>Days_to_Harvest</th>\n",
       "      <th>Yield_tons_per_hectare</th>\n",
       "      <th>Counts</th>\n",
       "    </tr>\n",
       "  </thead>\n",
       "  <tbody>\n",
       "    <tr>\n",
       "      <th>0</th>\n",
       "      <td>Barley</td>\n",
       "      <td>49973</td>\n",
       "      <td>49973</td>\n",
       "      <td>49973</td>\n",
       "      <td>49973</td>\n",
       "      <td>49973</td>\n",
       "      <td>49973</td>\n",
       "      <td>49973</td>\n",
       "      <td>49973</td>\n",
       "      <td>49973</td>\n",
       "      <td>49973</td>\n",
       "    </tr>\n",
       "    <tr>\n",
       "      <th>1</th>\n",
       "      <td>Cotton</td>\n",
       "      <td>50019</td>\n",
       "      <td>50019</td>\n",
       "      <td>50019</td>\n",
       "      <td>50019</td>\n",
       "      <td>50019</td>\n",
       "      <td>50019</td>\n",
       "      <td>50019</td>\n",
       "      <td>50019</td>\n",
       "      <td>50019</td>\n",
       "      <td>50019</td>\n",
       "    </tr>\n",
       "    <tr>\n",
       "      <th>2</th>\n",
       "      <td>Maize</td>\n",
       "      <td>50248</td>\n",
       "      <td>50248</td>\n",
       "      <td>50248</td>\n",
       "      <td>50248</td>\n",
       "      <td>50248</td>\n",
       "      <td>50248</td>\n",
       "      <td>50248</td>\n",
       "      <td>50248</td>\n",
       "      <td>50248</td>\n",
       "      <td>50248</td>\n",
       "    </tr>\n",
       "    <tr>\n",
       "      <th>3</th>\n",
       "      <td>Rice</td>\n",
       "      <td>49912</td>\n",
       "      <td>49912</td>\n",
       "      <td>49912</td>\n",
       "      <td>49912</td>\n",
       "      <td>49912</td>\n",
       "      <td>49912</td>\n",
       "      <td>49912</td>\n",
       "      <td>49912</td>\n",
       "      <td>49912</td>\n",
       "      <td>49912</td>\n",
       "    </tr>\n",
       "    <tr>\n",
       "      <th>4</th>\n",
       "      <td>Soybean</td>\n",
       "      <td>49777</td>\n",
       "      <td>49777</td>\n",
       "      <td>49777</td>\n",
       "      <td>49777</td>\n",
       "      <td>49777</td>\n",
       "      <td>49777</td>\n",
       "      <td>49777</td>\n",
       "      <td>49777</td>\n",
       "      <td>49777</td>\n",
       "      <td>49777</td>\n",
       "    </tr>\n",
       "    <tr>\n",
       "      <th>5</th>\n",
       "      <td>Wheat</td>\n",
       "      <td>50071</td>\n",
       "      <td>50071</td>\n",
       "      <td>50071</td>\n",
       "      <td>50071</td>\n",
       "      <td>50071</td>\n",
       "      <td>50071</td>\n",
       "      <td>50071</td>\n",
       "      <td>50071</td>\n",
       "      <td>50071</td>\n",
       "      <td>50071</td>\n",
       "    </tr>\n",
       "  </tbody>\n",
       "</table>\n",
       "</div>"
      ],
      "text/plain": [
       "      Crop  Region  Soil_Type  Rainfall_mm  Temperature_Celsius  \\\n",
       "0   Barley   49973      49973        49973                49973   \n",
       "1   Cotton   50019      50019        50019                50019   \n",
       "2    Maize   50248      50248        50248                50248   \n",
       "3     Rice   49912      49912        49912                49912   \n",
       "4  Soybean   49777      49777        49777                49777   \n",
       "5    Wheat   50071      50071        50071                50071   \n",
       "\n",
       "   Fertilizer_Used  Irrigation_Used  Weather_Condition  Days_to_Harvest  \\\n",
       "0            49973            49973              49973            49973   \n",
       "1            50019            50019              50019            50019   \n",
       "2            50248            50248              50248            50248   \n",
       "3            49912            49912              49912            49912   \n",
       "4            49777            49777              49777            49777   \n",
       "5            50071            50071              50071            50071   \n",
       "\n",
       "   Yield_tons_per_hectare  Counts  \n",
       "0                   49973   49973  \n",
       "1                   50019   50019  \n",
       "2                   50248   50248  \n",
       "3                   49912   49912  \n",
       "4                   49777   49777  \n",
       "5                   50071   50071  "
      ]
     },
     "execution_count": 24,
     "metadata": {},
     "output_type": "execute_result"
    }
   ],
   "source": [
    "df_total_crops_observation = df.groupby('Crop').count()\n",
    "df_total_crops_observation['Counts'] = df_total_crops_observation['Yield_tons_per_hectare']\n",
    "df_total_crops_observation = df_total_crops_observation.reset_index()\n",
    "df_total_crops_observation"
   ]
  },
  {
   "cell_type": "code",
   "execution_count": 25,
   "id": "ef710a1b",
   "metadata": {},
   "outputs": [
    {
     "data": {
      "image/png": "[encoded data removed]",
      "text/plain": [
       "<Figure size 640x480 with 1 Axes>"
      ]
     },
     "metadata": {},
     "output_type": "display_data"
    }
   ],
   "source": [
    "# Visualize How Crop Type Appears In dataset\n",
    "plt.Figure(figsize=(10, 6))\n",
    "sns.barplot(x='Crop', y='Counts', data=df_total_crops_observation, hue='Crop', orient='v')\n",
    "plt.title(\"Bar Plot Showing How Much Data For Each Crop Available I Dataset\")\n",
    "plt.xlabel(\"Crop Type\")\n",
    "plt.ylabel(\"Count Of Observation For Each Crop Type\")\n",
    "plt.tight_layout()\n",
    "plt.savefig(r'D:\\All_Projects\\Econometrics_Practice\\report\\charts\\crops_count_barplot.png', dpi=400, bbox_inches='tight')\n",
    "plt.show()"
   ]
  },
  {
   "cell_type": "markdown",
   "id": "50f8e236",
   "metadata": {},
   "source": [
    "Above Plot Shows How Much Crop Data We have in dataset.\n",
    "1. Rice, SoyBean and Wheat have high observation."
   ]
  },
  {
   "cell_type": "markdown",
   "id": "86337073",
   "metadata": {},
   "source": [
    "**Test Hypothesis**\n",
    "1. a) Rainfall does not Affect Yield Per Hectare (Null Hypothesis <=> H_0)\\\n",
    "   b) Rainfall does Affect Yield Per Hectare  (Alternative Hypothesis <=> H_1)"
   ]
  },
  {
   "cell_type": "code",
   "execution_count": 27,
   "id": "08b27d26",
   "metadata": {},
   "outputs": [
    {
     "name": "stdout",
     "output_type": "stream",
     "text": [
      "Pearson Correlation Between RainFall and Yiels Tons PerHectare is: 0.7647630323697433\n",
      "Probability That RainFall Affect Yiels Tons PerHectare s: 0.0\n"
     ]
    }
   ],
   "source": [
    "# Use Hypothesis Testing\n",
    "x, y = pearsonr( x=df['Rainfall_mm'], y=df['Yield_tons_per_hectare'], alternative='greater')\n",
    "print(f\"Pearson Correlation Between RainFall and Yiels Tons PerHectare is: {x}\\nProbability That RainFall Affect Yiels Tons PerHectare s: { y}\")\n"
   ]
  },
  {
   "cell_type": "markdown",
   "id": "ba87b379",
   "metadata": {},
   "source": [
    "**Interpretation Above**\n",
    "There is Strong Positive Correlation Between Rain Fall and Yields per Hectare, which means as rain fall increase also yields increase or when rain fall decrease also yields decrease.\n",
    "\n",
    "Probability That This Is happening by random chance is less than 0.05 (5%) this means that we reject Null Hypothesis. \n",
    "\n",
    "**Conclusion**\n",
    "\n",
    "1. Rainfall does not Affect Yield Per Hectare (**Rejected**)\n",
    "2. Rainfall does Affect Yield Per Hectare (**Approved**)\n",
    "\n",
    "=> Above Statement State that there are not enought evidence to prove that Rainfall does not Affect Yield Per Hectare\n",
    "\n",
    "This Means that climate change affect Production."
   ]
  },
  {
   "cell_type": "markdown",
   "id": "be20cc93",
   "metadata": {},
   "source": [
    "**Visual Represantation**\n",
    "\n",
    "Do Rain Fall affect Yield Per Hectare (Production)?"
   ]
  },
  {
   "cell_type": "code",
   "execution_count": 29,
   "id": "be578674",
   "metadata": {},
   "outputs": [
    {
     "data": {
      "image/png": "[encoded data removed]",
      "text/plain": [
       "<Figure size 610.25x500 with 1 Axes>"
      ]
     },
     "metadata": {},
     "output_type": "display_data"
    }
   ],
   "source": [
    "sns.lmplot(data=df, x='Rainfall_mm', y='Yield_tons_per_hectare', hue='Crop')\n",
    "plt.title(\"Relationship Between Rain Fall and Yields per Hectare\")\n",
    "plt.xlabel(\"Rain Fall\")\n",
    "plt.ylabel(\"Yields Per Hectare\")\n",
    "plt.savefig(r'D:\\All_Projects\\Econometrics_Practice\\report\\charts\\rainfall_vs_yields.png', dpi=500, bbox_inches='tight')\n",
    "plt.show()"
   ]
  },
  {
   "cell_type": "markdown",
   "id": "53af54fa",
   "metadata": {},
   "source": [
    "**Exploration ABove**\n",
    "\n",
    "Based on exploration above the figure shows that there is strong correlation betwenn rainfall and yields per hectare,\n",
    "where crops like Rice, wheat and others are increasing in production as rain increase, as well as decrease in production as rainfall decrease"
   ]
  },
  {
   "cell_type": "markdown",
   "id": "a7274791",
   "metadata": {},
   "source": [
    "Visualize How Much Each Soil Type Observations We Have In data set"
   ]
  },
  {
   "cell_type": "code",
   "execution_count": null,
   "id": "03929f30",
   "metadata": {},
   "outputs": [],
   "source": [
    "plt.title(\"Bar Plot Shows Soil Type For All Crops\")\n",
    "plt.xlabel(\"Soil Type\")\n",
    "plt.ylabel(\"COunts Of Observation\")\n",
    "sns.barplot(x='Soil_Type', data=df, hue='Soil_Type', orient='v')\n",
    "plt.show()"
   ]
  },
  {
   "cell_type": "code",
   "execution_count": 4,
   "id": "ad2744b7",
   "metadata": {},
   "outputs": [
    {
     "name": "stdout",
     "output_type": "stream",
     "text": [
      "['North' 'South' 'East' 'West']\n",
      "\n",
      "\n",
      "['Chalky' 'Loam' 'Peaty' 'Clay' 'Silt' 'Sandy']\n",
      "\n",
      "\n",
      "['Maize' 'Cotton' 'Barley' 'Wheat' 'Soybean' 'Rice']\n",
      "\n",
      "\n",
      "[False  True]\n",
      "\n",
      "\n",
      "[False  True]\n",
      "\n",
      "\n",
      "['Rainy' 'Cloudy' 'Sunny']\n",
      "\n",
      "\n"
     ]
    }
   ],
   "source": [
    "# Show unique values in non numeric features and analyze how to encode those features\n",
    "for col in df.select_dtypes(include=[object, bool]):\n",
    "    print(df[col].unique())\n",
    "    print('\\n')"
   ]
  },
  {
   "cell_type": "markdown",
   "id": "ca27934c",
   "metadata": {},
   "source": [
    "Above output shows the unique values for categorical features\n",
    "\n",
    "**Action To Be Taken**\n",
    "\n",
    "Use Encoding techniques to change categorical values to numerical zeros and ones"
   ]
  },
  {
   "cell_type": "code",
   "execution_count": 32,
   "id": "93a92711",
   "metadata": {},
   "outputs": [
    {
     "data": {
      "application/vnd.microsoft.datawrangler.viewer.v0+json": {
       "columns": [
        {
         "name": "index",
         "rawType": "int64",
         "type": "integer"
        },
        {
         "name": "Fertilizer_Used",
         "rawType": "bool",
         "type": "boolean"
        },
        {
         "name": "Mean_Yield_tons_per_hectare",
         "rawType": "float64",
         "type": "float"
        }
       ],
       "ref": "bf04d457-a100-4cce-83c9-6787ea39b114",
       "rows": [
        [
         "0",
         "False",
         "3.9015778960164393"
        ],
        [
         "1",
         "True",
         "5.397204936208626"
        ]
       ],
       "shape": {
        "columns": 2,
        "rows": 2
       }
      },
      "text/html": [
       "<div>\n",
       "<style scoped>\n",
       "    .dataframe tbody tr th:only-of-type {\n",
       "        vertical-align: middle;\n",
       "    }\n",
       "\n",
       "    .dataframe tbody tr th {\n",
       "        vertical-align: top;\n",
       "    }\n",
       "\n",
       "    .dataframe thead th {\n",
       "        text-align: right;\n",
       "    }\n",
       "</style>\n",
       "<table border=\"1\" class=\"dataframe\">\n",
       "  <thead>\n",
       "    <tr style=\"text-align: right;\">\n",
       "      <th></th>\n",
       "      <th>Fertilizer_Used</th>\n",
       "      <th>Mean_Yield_tons_per_hectare</th>\n",
       "    </tr>\n",
       "  </thead>\n",
       "  <tbody>\n",
       "    <tr>\n",
       "      <th>0</th>\n",
       "      <td>False</td>\n",
       "      <td>3.901578</td>\n",
       "    </tr>\n",
       "    <tr>\n",
       "      <th>1</th>\n",
       "      <td>True</td>\n",
       "      <td>5.397205</td>\n",
       "    </tr>\n",
       "  </tbody>\n",
       "</table>\n",
       "</div>"
      ],
      "text/plain": [
       "   Fertilizer_Used  Mean_Yield_tons_per_hectare\n",
       "0            False                     3.901578\n",
       "1             True                     5.397205"
      ]
     },
     "execution_count": 32,
     "metadata": {},
     "output_type": "execute_result"
    }
   ],
   "source": [
    "df_fert = df[['Yield_tons_per_hectare', 'Fertilizer_Used']].groupby('Fertilizer_Used').mean().add_prefix(\"Mean_\").reset_index()\n",
    "df_fert"
   ]
  },
  {
   "cell_type": "code",
   "execution_count": 34,
   "id": "57481df5",
   "metadata": {},
   "outputs": [
    {
     "data": {
      "image/png": "[encoded data removed]",
      "text/plain": [
       "<Figure size 640x480 with 1 Axes>"
      ]
     },
     "metadata": {},
     "output_type": "display_data"
    }
   ],
   "source": [
    "plt.title(\"Fertilizer Used VS Crop Yield\")\n",
    "plt.xlabel(\"Fertilizer Used\")\n",
    "plt.ylabel(\"Average Yield tons per hectare\")\n",
    "sns.barplot(x='Fertilizer_Used', y='Mean_Yield_tons_per_hectare', data=df_fert, hue='Fertilizer_Used')\n",
    "plt.savefig(r'D:\\All_Projects\\Econometrics_Practice\\report\\charts\\fertilizer_yield.png', dpi=500)\n"
   ]
  },
  {
   "cell_type": "markdown",
   "id": "58b921d4",
   "metadata": {},
   "source": [
    "Above Summary table Shows that Yield tons per hectare's average when fertilizer is used, is slight more with 1.3 tons difference\n",
    "compared when fertilizer is not used.\\\n",
    "This means that using fertilizer increase Yield tons per hectare\n"
   ]
  },
  {
   "cell_type": "markdown",
   "id": "fa735cf3",
   "metadata": {},
   "source": [
    "**Hypothesis Testing**\n",
    "\n",
    "1. (Null Hypothesis) Whether Using Fertilizer or Not, Does Not Affect Crop Yield Tons Per Hectare\n",
    "2. (Alternative Hypothesis) Whether Using Fertilizer or Not, Does Affect Crop Yield Tons Per Hectare"
   ]
  },
  {
   "cell_type": "code",
   "execution_count": 50,
   "id": "09b9258d",
   "metadata": {},
   "outputs": [
    {
     "name": "stdout",
     "output_type": "stream",
     "text": [
      "269.15\n",
      "0.000\n",
      "Since 0.0 is Less Than 0.05, We Reject Null Hypothesis.\n",
      "Conclusion:\n",
      "1.There is Statistically Significant Difference Between The Mean Of \n",
      "                Crop Yield Per Hectare when Fertilizer is used and \n",
      "                Crop Yield Per Hectare when Fertilizer is not used.\n",
      "            =>Fertilizer Affect Crop Yield\n",
      "          \n"
     ]
    }
   ],
   "source": [
    "fertilizer_true = df[df['Fertilizer_Used'].astype(str) == 'True']['Yield_tons_per_hectare']\n",
    "fertilizer_false = df[df['Fertilizer_Used'].astype(str) == 'False']['Yield_tons_per_hectare']\n",
    "\n",
    "# print(fertilizer_false.var(), fertilizer_true.var())\n",
    "alpha = 0.05\n",
    "t_stat, p_value_ttest = stats.ttest_ind(fertilizer_true, fertilizer_false, equal_var=True)\n",
    "print(f\"{t_stat:.2f}\\n{p_value_ttest:.3f}\" )\n",
    "\n",
    "if p_value_ttest < alpha:\n",
    "    print(f\"Since {p_value_ttest:.3} is Less Than {alpha}, We Reject Null Hypothesis.\")\n",
    "    print(\"\"\"Conclusion:\\n1.There is Statistically Significant Difference Between The Mean Of \n",
    "                Crop Yield Per Hectare when Fertilizer is used and \n",
    "                Crop Yield Per Hectare when Fertilizer is not used.\n",
    "            =>Fertilizer Affect Crop Yield\n",
    "          \"\"\")\n",
    "\n",
    "else:\n",
    "    print(f\"\"\"Since {p_value_ttest:.3} is Greater Than Or Equal To {alpha}\n",
    "          Conclusion:\\n1.There is  no Statistically Significant Difference Between The Mean Of \n",
    "                Crop Yield Per Hectare when Fertilizer is used and \n",
    "                Crop Yield Per Hectare when Fertilizer is not used.\n",
    "          \"\"\")"
   ]
  },
  {
   "cell_type": "code",
   "execution_count": 15,
   "id": "9b988b64",
   "metadata": {},
   "outputs": [
    {
     "data": {
      "application/vnd.microsoft.datawrangler.viewer.v0+json": {
       "columns": [
        {
         "name": "Irrigation_Used",
         "rawType": "bool",
         "type": "boolean"
        },
        {
         "name": "Yield_tons_per_hectare",
         "rawType": "float64",
         "type": "float"
        }
       ],
       "ref": "bb1d9504-6435-42ea-bd81-dce076381145",
       "rows": [
        [
         "False",
         "4.048615192512886"
        ],
        [
         "True",
         "5.249651421916802"
        ]
       ],
       "shape": {
        "columns": 1,
        "rows": 2
       }
      },
      "text/html": [
       "<div>\n",
       "<style scoped>\n",
       "    .dataframe tbody tr th:only-of-type {\n",
       "        vertical-align: middle;\n",
       "    }\n",
       "\n",
       "    .dataframe tbody tr th {\n",
       "        vertical-align: top;\n",
       "    }\n",
       "\n",
       "    .dataframe thead th {\n",
       "        text-align: right;\n",
       "    }\n",
       "</style>\n",
       "<table border=\"1\" class=\"dataframe\">\n",
       "  <thead>\n",
       "    <tr style=\"text-align: right;\">\n",
       "      <th></th>\n",
       "      <th>Yield_tons_per_hectare</th>\n",
       "    </tr>\n",
       "    <tr>\n",
       "      <th>Irrigation_Used</th>\n",
       "      <th></th>\n",
       "    </tr>\n",
       "  </thead>\n",
       "  <tbody>\n",
       "    <tr>\n",
       "      <th>False</th>\n",
       "      <td>4.048615</td>\n",
       "    </tr>\n",
       "    <tr>\n",
       "      <th>True</th>\n",
       "      <td>5.249651</td>\n",
       "    </tr>\n",
       "  </tbody>\n",
       "</table>\n",
       "</div>"
      ],
      "text/plain": [
       "                 Yield_tons_per_hectare\n",
       "Irrigation_Used                        \n",
       "False                          4.048615\n",
       "True                           5.249651"
      ]
     },
     "execution_count": 15,
     "metadata": {},
     "output_type": "execute_result"
    }
   ],
   "source": [
    "df_irr = df[['Yield_tons_per_hectare', 'Irrigation_Used']].groupby('Irrigation_Used').mean()\n",
    "df_irr"
   ]
  },
  {
   "cell_type": "code",
   "execution_count": 12,
   "id": "2b0b4a4e",
   "metadata": {},
   "outputs": [
    {
     "data": {
      "image/png": "[encoded data removed]",
      "text/plain": [
       "<Figure size 640x480 with 1 Axes>"
      ]
     },
     "metadata": {},
     "output_type": "display_data"
    }
   ],
   "source": [
    "plt.title(\"Irrigation Used Vs Yield per Hectare\")\n",
    "plt.xlabel(\"Irrigation Used\")\n",
    "plt.ylabel(\"Yield Per Hectare\")\n",
    "sns.barplot(x=df_irr.index, y=df_irr['Yield_tons_per_hectare'], hue=df_irr.index, orient='v')\n",
    "plt.savefig(r'D:\\All_Projects\\Econometrics_Practice\\report\\charts\\irrigation_yield.png', dpi=300, bbox_inches='tight')"
   ]
  },
  {
   "cell_type": "markdown",
   "id": "576edb2d",
   "metadata": {},
   "source": [
    "Above Plot shows that  there is increase in Yield tons per hectare when Irrigation Is Used with average difference of 1.2 tons, applying irrigation also is great choice."
   ]
  },
  {
   "cell_type": "markdown",
   "id": "ae57a80e",
   "metadata": {},
   "source": [
    "**Hypothesis Testing**\n",
    "\n",
    "1. (Null Hypothesis) Whether Using Irrigation or Not, Does Not Affect Crop Yield Tons Per Hectare\n",
    "2. (Alternative Hypothesis) Whether Using Irrigation or Not, Does Affect Crop Yield Tons Per Hectare"
   ]
  },
  {
   "cell_type": "code",
   "execution_count": 52,
   "id": "07fe59ca",
   "metadata": {},
   "outputs": [
    {
     "name": "stdout",
     "output_type": "stream",
     "text": [
      "207.43\n",
      "0.000\n",
      "Since 0.0 is Less Than 0.05, We Reject Null Hypothesis.\n",
      "Conclusion:\n",
      "1.There is Statistically Significant Difference Between The Mean Of \n",
      "                Crop Yield Per Hectare when Irrigation is used and \n",
      "                Crop Yield Per Hectare when Irrigation is not used.\n",
      "            =>Irrigation Affect Crop Yield\n",
      "          \n"
     ]
    }
   ],
   "source": [
    "irrigation_true = df[df['Irrigation_Used'].astype(str) == 'True']['Yield_tons_per_hectare']\n",
    "irrigation_false = df[df['Irrigation_Used'].astype(str) == 'False']['Yield_tons_per_hectare']\n",
    "\n",
    "# print(irrigation_false.var(), irrigation_true.var())\n",
    "alpha = 0.05\n",
    "t_stat, p_value_ttest = stats.ttest_ind(irrigation_true, irrigation_false, equal_var=True)\n",
    "print(f\"{t_stat:.2f}\\n{p_value_ttest:.3f}\" )\n",
    "\n",
    "if p_value_ttest < alpha:\n",
    "    print(f\"Since {p_value_ttest:.3} is Less Than {alpha}, We Reject Null Hypothesis.\")\n",
    "    print(\"\"\"Conclusion:\\n1.There is Statistically Significant Difference Between The Mean Of \n",
    "                Crop Yield Per Hectare when Irrigation is used and \n",
    "                Crop Yield Per Hectare when Irrigation is not used.\n",
    "            =>Irrigation Affect Crop Yield\n",
    "          \"\"\")\n",
    "\n",
    "else:\n",
    "    print(f\"\"\"Since {p_value_ttest:.3} is Greater Than Or Equal To {alpha}\n",
    "          Conclusion:\\n1.There is  no Statistically Significant Difference Between The Mean Of \n",
    "                Crop Yield Per Hectare when Irrigation is used and \n",
    "                Crop Yield Per Hectare when Irrigation is not used.\n",
    "          \"\"\")"
   ]
  },
  {
   "cell_type": "markdown",
   "id": "cd14d02c",
   "metadata": {},
   "source": [
    "Do All Crops Tend To Produce More Tons of Production when Fertilizer Is Used?"
   ]
  },
  {
   "cell_type": "code",
   "execution_count": 8,
   "id": "dd4d8ffe",
   "metadata": {},
   "outputs": [
    {
     "data": {
      "application/vnd.microsoft.datawrangler.viewer.v0+json": {
       "columns": [
        {
         "name": "index",
         "rawType": "int64",
         "type": "integer"
        },
        {
         "name": "Crop",
         "rawType": "object",
         "type": "string"
        },
        {
         "name": "Fertilizer_Used",
         "rawType": "bool",
         "type": "boolean"
        },
        {
         "name": "Yield_tons_per_hectare",
         "rawType": "float64",
         "type": "float"
        }
       ],
       "ref": "de67ea8a-71d0-424e-aacf-72ee680ebd60",
       "rows": [
        [
         "0",
         "Barley",
         "False",
         "97508.74682823762"
        ],
        [
         "1",
         "Barley",
         "True",
         "134445.40494031872"
        ],
        [
         "2",
         "Cotton",
         "False",
         "96963.56590979327"
        ],
        [
         "3",
         "Cotton",
         "True",
         "135521.25218959752"
        ],
        [
         "4",
         "Maize",
         "False",
         "97887.23774573456"
        ],
        [
         "5",
         "Maize",
         "True",
         "135437.26108131112"
        ],
        [
         "6",
         "Rice",
         "False",
         "97692.6843615414"
        ],
        [
         "7",
         "Rice",
         "True",
         "134559.3903862936"
        ],
        [
         "8",
         "Soybean",
         "False",
         "97973.34141451796"
        ],
        [
         "9",
         "Soybean",
         "True",
         "133647.38909935395"
        ],
        [
         "10",
         "Wheat",
         "False",
         "97441.30123850614"
        ],
        [
         "11",
         "Wheat",
         "True",
         "135651.60764318268"
        ]
       ],
       "shape": {
        "columns": 3,
        "rows": 12
       }
      },
      "text/html": [
       "<div>\n",
       "<style scoped>\n",
       "    .dataframe tbody tr th:only-of-type {\n",
       "        vertical-align: middle;\n",
       "    }\n",
       "\n",
       "    .dataframe tbody tr th {\n",
       "        vertical-align: top;\n",
       "    }\n",
       "\n",
       "    .dataframe thead th {\n",
       "        text-align: right;\n",
       "    }\n",
       "</style>\n",
       "<table border=\"1\" class=\"dataframe\">\n",
       "  <thead>\n",
       "    <tr style=\"text-align: right;\">\n",
       "      <th></th>\n",
       "      <th>Crop</th>\n",
       "      <th>Fertilizer_Used</th>\n",
       "      <th>Yield_tons_per_hectare</th>\n",
       "    </tr>\n",
       "  </thead>\n",
       "  <tbody>\n",
       "    <tr>\n",
       "      <th>0</th>\n",
       "      <td>Barley</td>\n",
       "      <td>False</td>\n",
       "      <td>97508.746828</td>\n",
       "    </tr>\n",
       "    <tr>\n",
       "      <th>1</th>\n",
       "      <td>Barley</td>\n",
       "      <td>True</td>\n",
       "      <td>134445.404940</td>\n",
       "    </tr>\n",
       "    <tr>\n",
       "      <th>2</th>\n",
       "      <td>Cotton</td>\n",
       "      <td>False</td>\n",
       "      <td>96963.565910</td>\n",
       "    </tr>\n",
       "    <tr>\n",
       "      <th>3</th>\n",
       "      <td>Cotton</td>\n",
       "      <td>True</td>\n",
       "      <td>135521.252190</td>\n",
       "    </tr>\n",
       "    <tr>\n",
       "      <th>4</th>\n",
       "      <td>Maize</td>\n",
       "      <td>False</td>\n",
       "      <td>97887.237746</td>\n",
       "    </tr>\n",
       "    <tr>\n",
       "      <th>5</th>\n",
       "      <td>Maize</td>\n",
       "      <td>True</td>\n",
       "      <td>135437.261081</td>\n",
       "    </tr>\n",
       "    <tr>\n",
       "      <th>6</th>\n",
       "      <td>Rice</td>\n",
       "      <td>False</td>\n",
       "      <td>97692.684362</td>\n",
       "    </tr>\n",
       "    <tr>\n",
       "      <th>7</th>\n",
       "      <td>Rice</td>\n",
       "      <td>True</td>\n",
       "      <td>134559.390386</td>\n",
       "    </tr>\n",
       "    <tr>\n",
       "      <th>8</th>\n",
       "      <td>Soybean</td>\n",
       "      <td>False</td>\n",
       "      <td>97973.341415</td>\n",
       "    </tr>\n",
       "    <tr>\n",
       "      <th>9</th>\n",
       "      <td>Soybean</td>\n",
       "      <td>True</td>\n",
       "      <td>133647.389099</td>\n",
       "    </tr>\n",
       "    <tr>\n",
       "      <th>10</th>\n",
       "      <td>Wheat</td>\n",
       "      <td>False</td>\n",
       "      <td>97441.301239</td>\n",
       "    </tr>\n",
       "    <tr>\n",
       "      <th>11</th>\n",
       "      <td>Wheat</td>\n",
       "      <td>True</td>\n",
       "      <td>135651.607643</td>\n",
       "    </tr>\n",
       "  </tbody>\n",
       "</table>\n",
       "</div>"
      ],
      "text/plain": [
       "       Crop  Fertilizer_Used  Yield_tons_per_hectare\n",
       "0    Barley            False            97508.746828\n",
       "1    Barley             True           134445.404940\n",
       "2    Cotton            False            96963.565910\n",
       "3    Cotton             True           135521.252190\n",
       "4     Maize            False            97887.237746\n",
       "5     Maize             True           135437.261081\n",
       "6      Rice            False            97692.684362\n",
       "7      Rice             True           134559.390386\n",
       "8   Soybean            False            97973.341415\n",
       "9   Soybean             True           133647.389099\n",
       "10    Wheat            False            97441.301239\n",
       "11    Wheat             True           135651.607643"
      ]
     },
     "execution_count": 8,
     "metadata": {},
     "output_type": "execute_result"
    }
   ],
   "source": [
    "df_yield_crop = df[['Yield_tons_per_hectare', 'Crop', 'Fertilizer_Used']].groupby(['Crop', 'Fertilizer_Used']).sum()\n",
    "df_yield_crop = df_yield_crop.reset_index()\n",
    "df_yield_crop"
   ]
  },
  {
   "cell_type": "markdown",
   "id": "18de4142",
   "metadata": {},
   "source": [
    "Summary Table Above Is Confirming That All Crops Have More Yield Tons per Hectare When Fertilizer is used\n",
    "\n",
    "**Conclusion**\n",
    "\n",
    "Yes All Crops Tend To Produce More Production when Fertlizer is Used."
   ]
  },
  {
   "cell_type": "markdown",
   "id": "e9402894",
   "metadata": {},
   "source": [
    "Is there any Crop Which is not affected by Rain Fall? how is Yield when Rainfall is dicreased?"
   ]
  },
  {
   "cell_type": "code",
   "execution_count": 11,
   "id": "1bc1aff9",
   "metadata": {},
   "outputs": [
    {
     "data": {
      "image/png": "[encoded data removed]",
      "text/plain": [
       "<Figure size 640x480 with 1 Axes>"
      ]
     },
     "metadata": {},
     "output_type": "display_data"
    }
   ],
   "source": [
    "plt.title(\"Crop Total Yield Tons Per Hectare By Fertilizer Used\")\n",
    "plt.xlabel(\"Crop\")\n",
    "plt.ylabel(\"Yield Tons Per Hectare\")\n",
    "sns.barplot(x='Crop', y='Yield_tons_per_hectare', hue='Fertilizer_Used', data=df_yield_crop, palette={True: 'green', False: 'blue'})\n",
    "plt.savefig(r'D:\\All_Projects\\Econometrics_Practice\\report\\charts\\crop_yield_fertilizer.png', dpi=300, bbox_inches='tight')"
   ]
  },
  {
   "cell_type": "markdown",
   "id": "94256f87",
   "metadata": {},
   "source": [
    "Above Plot Shows Total Yield Tons For Each Crop For Time Fertilizer was Used and Time It was not Used\n",
    "\n",
    "1.**Green**: Fertilizer Was Used\\\n",
    "2.**Blue**: Fertilizer Was Not Used"
   ]
  },
  {
   "cell_type": "code",
   "execution_count": 41,
   "id": "c0974ade",
   "metadata": {},
   "outputs": [
    {
     "name": "stderr",
     "output_type": "stream",
     "text": [
      "C:\\Users\\Gervais\\AppData\\Local\\Temp\\ipykernel_8108\\1586173048.py:1: UserWarning: Boolean Series key will be reindexed to match DataFrame index.\n",
      "  df[df['Rainfall_mm'] < 150][df['Yield_tons_per_hectare'] < 1]\n"
     ]
    },
    {
     "data": {
      "application/vnd.microsoft.datawrangler.viewer.v0+json": {
       "columns": [
        {
         "name": "index",
         "rawType": "int64",
         "type": "integer"
        },
        {
         "name": "Region",
         "rawType": "object",
         "type": "string"
        },
        {
         "name": "Soil_Type",
         "rawType": "object",
         "type": "string"
        },
        {
         "name": "Crop",
         "rawType": "object",
         "type": "string"
        },
        {
         "name": "Rainfall_mm",
         "rawType": "float64",
         "type": "float"
        },
        {
         "name": "Temperature_Celsius",
         "rawType": "float64",
         "type": "float"
        },
        {
         "name": "Fertilizer_Used",
         "rawType": "bool",
         "type": "boolean"
        },
        {
         "name": "Irrigation_Used",
         "rawType": "bool",
         "type": "boolean"
        },
        {
         "name": "Weather_Condition",
         "rawType": "object",
         "type": "string"
        },
        {
         "name": "Days_to_Harvest",
         "rawType": "int64",
         "type": "integer"
        },
        {
         "name": "Yield_tons_per_hectare",
         "rawType": "float64",
         "type": "float"
        }
       ],
       "ref": "c21a3e75-f6ef-4adc-b7c8-99a54f195f9b",
       "rows": [
        [
         "21",
         "North",
         "Loam",
         "Barley",
         "124.90536006417608",
         "18.364884693690183",
         "False",
         "False",
         "Sunny",
         "68",
         "0.5819554115002459"
        ],
        [
         "283",
         "North",
         "Silt",
         "Barley",
         "104.18436258005433",
         "26.13111646525685",
         "False",
         "False",
         "Rainy",
         "83",
         "0.8453658075495059"
        ],
        [
         "417",
         "East",
         "Silt",
         "Maize",
         "101.03247308408967",
         "21.909410421785843",
         "False",
         "False",
         "Cloudy",
         "108",
         "0.5377697669755939"
        ],
        [
         "466",
         "South",
         "Clay",
         "Soybean",
         "149.0220992525179",
         "35.53771354650385",
         "False",
         "False",
         "Cloudy",
         "127",
         "0.9134246631322072"
        ],
        [
         "613",
         "North",
         "Peaty",
         "Cotton",
         "134.9042685284752",
         "19.810167239165192",
         "False",
         "False",
         "Sunny",
         "71",
         "0.3301977075226832"
        ],
        [
         "720",
         "East",
         "Chalky",
         "Rice",
         "129.89098675805624",
         "18.69631590930851",
         "False",
         "False",
         "Cloudy",
         "75",
         "0.7751453358246665"
        ],
        [
         "1326",
         "North",
         "Clay",
         "Rice",
         "102.1799977821206",
         "24.63813246997076",
         "False",
         "False",
         "Sunny",
         "95",
         "0.1322502889178827"
        ],
        [
         "1515",
         "West",
         "Chalky",
         "Maize",
         "148.34783371497704",
         "15.867024967065674",
         "False",
         "False",
         "Sunny",
         "122",
         "0.718269154911757"
        ],
        [
         "1534",
         "West",
         "Peaty",
         "Maize",
         "143.68453703102125",
         "34.058102597518925",
         "False",
         "False",
         "Cloudy",
         "80",
         "0.4061832371715294"
        ],
        [
         "1608",
         "North",
         "Sandy",
         "Maize",
         "138.94455366246632",
         "27.723480692186687",
         "False",
         "False",
         "Rainy",
         "78",
         "0.990270041985546"
        ],
        [
         "1800",
         "West",
         "Silt",
         "Soybean",
         "113.94186165648068",
         "29.22275327815516",
         "False",
         "False",
         "Rainy",
         "145",
         "0.1665919279515799"
        ],
        [
         "2014",
         "South",
         "Clay",
         "Maize",
         "111.64540618093224",
         "29.650698862198418",
         "False",
         "False",
         "Rainy",
         "64",
         "0.8132053518894503"
        ],
        [
         "2075",
         "South",
         "Sandy",
         "Cotton",
         "117.04429493795271",
         "23.67920692600214",
         "False",
         "False",
         "Cloudy",
         "112",
         "0.7436025965418627"
        ],
        [
         "2109",
         "East",
         "Chalky",
         "Barley",
         "137.37421678232923",
         "32.08683145777603",
         "False",
         "False",
         "Cloudy",
         "129",
         "0.924409045834036"
        ],
        [
         "2275",
         "South",
         "Silt",
         "Maize",
         "134.01952617534525",
         "33.42713258823412",
         "False",
         "False",
         "Sunny",
         "144",
         "0.0613566524534205"
        ],
        [
         "2867",
         "South",
         "Sandy",
         "Wheat",
         "136.5639015733737",
         "30.07149810647873",
         "False",
         "False",
         "Cloudy",
         "143",
         "0.9309859362997892"
        ],
        [
         "2886",
         "West",
         "Sandy",
         "Barley",
         "140.5987146383333",
         "25.80747732809336",
         "False",
         "False",
         "Rainy",
         "94",
         "0.988242561245366"
        ],
        [
         "2926",
         "West",
         "Sandy",
         "Cotton",
         "124.8946458321042",
         "32.69254009163102",
         "False",
         "False",
         "Rainy",
         "68",
         "0.9988218318699"
        ],
        [
         "3611",
         "South",
         "Silt",
         "Maize",
         "106.42412696935844",
         "18.715441179402177",
         "False",
         "False",
         "Cloudy",
         "71",
         "0.072149089131976"
        ],
        [
         "4373",
         "West",
         "Chalky",
         "Barley",
         "120.37144474717974",
         "16.824553214149198",
         "False",
         "False",
         "Cloudy",
         "146",
         "0.2377738508559553"
        ],
        [
         "4484",
         "West",
         "Sandy",
         "Rice",
         "104.25076641512024",
         "36.10375362638895",
         "False",
         "False",
         "Cloudy",
         "137",
         "0.9055554872341878"
        ],
        [
         "4699",
         "East",
         "Clay",
         "Soybean",
         "111.62368161161584",
         "21.248905940589523",
         "False",
         "False",
         "Rainy",
         "100",
         "0.4465767690411895"
        ],
        [
         "4743",
         "South",
         "Sandy",
         "Maize",
         "134.4895605119301",
         "33.82335686717877",
         "False",
         "False",
         "Rainy",
         "110",
         "0.939392484234159"
        ],
        [
         "5112",
         "West",
         "Silt",
         "Cotton",
         "148.2456162640397",
         "28.16474536116328",
         "False",
         "False",
         "Sunny",
         "111",
         "0.7377367276840622"
        ],
        [
         "5349",
         "North",
         "Silt",
         "Soybean",
         "128.09222105420022",
         "21.641427529702987",
         "False",
         "False",
         "Sunny",
         "77",
         "0.9885888702398952"
        ],
        [
         "5545",
         "South",
         "Loam",
         "Wheat",
         "104.01379220127068",
         "37.71636500946303",
         "False",
         "False",
         "Rainy",
         "120",
         "0.970767446660182"
        ],
        [
         "5591",
         "South",
         "Sandy",
         "Wheat",
         "134.46807763645836",
         "35.84088894861762",
         "False",
         "False",
         "Cloudy",
         "80",
         "0.7533850209787268"
        ],
        [
         "5646",
         "South",
         "Clay",
         "Soybean",
         "138.8432984767401",
         "26.723125996713023",
         "False",
         "False",
         "Cloudy",
         "79",
         "0.674514344506544"
        ],
        [
         "5726",
         "West",
         "Silt",
         "Barley",
         "124.09219473183302",
         "28.18945749448164",
         "False",
         "False",
         "Cloudy",
         "73",
         "0.7269317391561902"
        ],
        [
         "5730",
         "West",
         "Silt",
         "Soybean",
         "127.55907550762804",
         "27.36865005413144",
         "False",
         "False",
         "Rainy",
         "141",
         "0.941768592039213"
        ],
        [
         "6008",
         "West",
         "Chalky",
         "Barley",
         "113.25487984271908",
         "30.225500939000053",
         "False",
         "False",
         "Rainy",
         "84",
         "0.3613567876170003"
        ],
        [
         "6112",
         "East",
         "Silt",
         "Barley",
         "125.05458519308516",
         "37.4388027905158",
         "False",
         "False",
         "Rainy",
         "131",
         "0.3109508819727768"
        ],
        [
         "6301",
         "North",
         "Silt",
         "Cotton",
         "130.23831691764568",
         "27.951466002360515",
         "False",
         "False",
         "Rainy",
         "113",
         "0.8370832737805667"
        ],
        [
         "6309",
         "East",
         "Peaty",
         "Cotton",
         "138.00519579445194",
         "26.3100928998874",
         "False",
         "False",
         "Sunny",
         "62",
         "0.6565986471515278"
        ],
        [
         "6358",
         "West",
         "Loam",
         "Rice",
         "147.80664889299408",
         "23.866348722038023",
         "False",
         "False",
         "Sunny",
         "137",
         "0.9558966206695768"
        ],
        [
         "6364",
         "North",
         "Silt",
         "Barley",
         "126.55392725733591",
         "25.437036453500333",
         "False",
         "False",
         "Rainy",
         "116",
         "0.7501540216056101"
        ],
        [
         "6553",
         "East",
         "Loam",
         "Cotton",
         "125.03623868919246",
         "16.82034672298985",
         "False",
         "False",
         "Rainy",
         "128",
         "0.4954778465112412"
        ],
        [
         "6578",
         "East",
         "Peaty",
         "Barley",
         "136.61058388787188",
         "29.92493453183884",
         "False",
         "False",
         "Sunny",
         "143",
         "0.8633760946811667"
        ],
        [
         "6861",
         "East",
         "Chalky",
         "Wheat",
         "115.89751899026749",
         "39.04447499051832",
         "False",
         "False",
         "Sunny",
         "107",
         "0.5163399439901397"
        ],
        [
         "6947",
         "East",
         "Clay",
         "Wheat",
         "102.21520470919322",
         "17.031396884682064",
         "False",
         "False",
         "Sunny",
         "84",
         "0.6339189953373302"
        ],
        [
         "7658",
         "East",
         "Loam",
         "Rice",
         "139.06974328097272",
         "35.092000942898935",
         "False",
         "False",
         "Rainy",
         "79",
         "0.9287179439364642"
        ],
        [
         "7738",
         "South",
         "Clay",
         "Wheat",
         "103.28005268842004",
         "16.341702484624044",
         "False",
         "False",
         "Sunny",
         "131",
         "0.2888778384798224"
        ],
        [
         "7812",
         "North",
         "Silt",
         "Wheat",
         "121.76295544517455",
         "17.489431303249667",
         "False",
         "False",
         "Cloudy",
         "68",
         "0.8726133571516865"
        ],
        [
         "7871",
         "South",
         "Clay",
         "Soybean",
         "106.44729857806294",
         "36.536095109897744",
         "False",
         "False",
         "Cloudy",
         "117",
         "0.0931890081821178"
        ],
        [
         "7907",
         "East",
         "Sandy",
         "Maize",
         "141.68451417133292",
         "19.277908925791703",
         "False",
         "False",
         "Sunny",
         "145",
         "0.277394310594672"
        ],
        [
         "8005",
         "North",
         "Chalky",
         "Wheat",
         "120.11492781093406",
         "25.033901823745925",
         "False",
         "False",
         "Sunny",
         "63",
         "0.8195221910933401"
        ],
        [
         "8040",
         "South",
         "Sandy",
         "Barley",
         "143.86792763183445",
         "17.5775850359053",
         "False",
         "False",
         "Cloudy",
         "108",
         "0.6044383290134698"
        ],
        [
         "8165",
         "East",
         "Sandy",
         "Maize",
         "105.2518536558965",
         "28.467810175141977",
         "False",
         "False",
         "Sunny",
         "131",
         "0.7070334172103137"
        ],
        [
         "8398",
         "North",
         "Sandy",
         "Cotton",
         "139.6686777070284",
         "23.42983163383956",
         "False",
         "False",
         "Cloudy",
         "133",
         "0.9923319687237592"
        ],
        [
         "8482",
         "North",
         "Sandy",
         "Maize",
         "100.90029250309676",
         "23.0270968597104",
         "False",
         "False",
         "Cloudy",
         "119",
         "0.916002878291591"
        ]
       ],
       "shape": {
        "columns": 10,
        "rows": 1533
       }
      },
      "text/html": [
       "<div>\n",
       "<style scoped>\n",
       "    .dataframe tbody tr th:only-of-type {\n",
       "        vertical-align: middle;\n",
       "    }\n",
       "\n",
       "    .dataframe tbody tr th {\n",
       "        vertical-align: top;\n",
       "    }\n",
       "\n",
       "    .dataframe thead th {\n",
       "        text-align: right;\n",
       "    }\n",
       "</style>\n",
       "<table border=\"1\" class=\"dataframe\">\n",
       "  <thead>\n",
       "    <tr style=\"text-align: right;\">\n",
       "      <th></th>\n",
       "      <th>Region</th>\n",
       "      <th>Soil_Type</th>\n",
       "      <th>Crop</th>\n",
       "      <th>Rainfall_mm</th>\n",
       "      <th>Temperature_Celsius</th>\n",
       "      <th>Fertilizer_Used</th>\n",
       "      <th>Irrigation_Used</th>\n",
       "      <th>Weather_Condition</th>\n",
       "      <th>Days_to_Harvest</th>\n",
       "      <th>Yield_tons_per_hectare</th>\n",
       "    </tr>\n",
       "  </thead>\n",
       "  <tbody>\n",
       "    <tr>\n",
       "      <th>21</th>\n",
       "      <td>North</td>\n",
       "      <td>Loam</td>\n",
       "      <td>Barley</td>\n",
       "      <td>124.905360</td>\n",
       "      <td>18.364885</td>\n",
       "      <td>False</td>\n",
       "      <td>False</td>\n",
       "      <td>Sunny</td>\n",
       "      <td>68</td>\n",
       "      <td>0.581955</td>\n",
       "    </tr>\n",
       "    <tr>\n",
       "      <th>283</th>\n",
       "      <td>North</td>\n",
       "      <td>Silt</td>\n",
       "      <td>Barley</td>\n",
       "      <td>104.184363</td>\n",
       "      <td>26.131116</td>\n",
       "      <td>False</td>\n",
       "      <td>False</td>\n",
       "      <td>Rainy</td>\n",
       "      <td>83</td>\n",
       "      <td>0.845366</td>\n",
       "    </tr>\n",
       "    <tr>\n",
       "      <th>417</th>\n",
       "      <td>East</td>\n",
       "      <td>Silt</td>\n",
       "      <td>Maize</td>\n",
       "      <td>101.032473</td>\n",
       "      <td>21.909410</td>\n",
       "      <td>False</td>\n",
       "      <td>False</td>\n",
       "      <td>Cloudy</td>\n",
       "      <td>108</td>\n",
       "      <td>0.537770</td>\n",
       "    </tr>\n",
       "    <tr>\n",
       "      <th>466</th>\n",
       "      <td>South</td>\n",
       "      <td>Clay</td>\n",
       "      <td>Soybean</td>\n",
       "      <td>149.022099</td>\n",
       "      <td>35.537714</td>\n",
       "      <td>False</td>\n",
       "      <td>False</td>\n",
       "      <td>Cloudy</td>\n",
       "      <td>127</td>\n",
       "      <td>0.913425</td>\n",
       "    </tr>\n",
       "    <tr>\n",
       "      <th>613</th>\n",
       "      <td>North</td>\n",
       "      <td>Peaty</td>\n",
       "      <td>Cotton</td>\n",
       "      <td>134.904269</td>\n",
       "      <td>19.810167</td>\n",
       "      <td>False</td>\n",
       "      <td>False</td>\n",
       "      <td>Sunny</td>\n",
       "      <td>71</td>\n",
       "      <td>0.330198</td>\n",
       "    </tr>\n",
       "    <tr>\n",
       "      <th>...</th>\n",
       "      <td>...</td>\n",
       "      <td>...</td>\n",
       "      <td>...</td>\n",
       "      <td>...</td>\n",
       "      <td>...</td>\n",
       "      <td>...</td>\n",
       "      <td>...</td>\n",
       "      <td>...</td>\n",
       "      <td>...</td>\n",
       "      <td>...</td>\n",
       "    </tr>\n",
       "    <tr>\n",
       "      <th>298840</th>\n",
       "      <td>North</td>\n",
       "      <td>Peaty</td>\n",
       "      <td>Barley</td>\n",
       "      <td>113.408452</td>\n",
       "      <td>26.885352</td>\n",
       "      <td>False</td>\n",
       "      <td>False</td>\n",
       "      <td>Rainy</td>\n",
       "      <td>119</td>\n",
       "      <td>0.735514</td>\n",
       "    </tr>\n",
       "    <tr>\n",
       "      <th>299189</th>\n",
       "      <td>North</td>\n",
       "      <td>Chalky</td>\n",
       "      <td>Soybean</td>\n",
       "      <td>142.024097</td>\n",
       "      <td>25.566238</td>\n",
       "      <td>False</td>\n",
       "      <td>False</td>\n",
       "      <td>Rainy</td>\n",
       "      <td>69</td>\n",
       "      <td>0.960297</td>\n",
       "    </tr>\n",
       "    <tr>\n",
       "      <th>299506</th>\n",
       "      <td>East</td>\n",
       "      <td>Peaty</td>\n",
       "      <td>Wheat</td>\n",
       "      <td>119.085638</td>\n",
       "      <td>24.208382</td>\n",
       "      <td>False</td>\n",
       "      <td>False</td>\n",
       "      <td>Rainy</td>\n",
       "      <td>147</td>\n",
       "      <td>0.939540</td>\n",
       "    </tr>\n",
       "    <tr>\n",
       "      <th>299520</th>\n",
       "      <td>South</td>\n",
       "      <td>Chalky</td>\n",
       "      <td>Rice</td>\n",
       "      <td>129.448089</td>\n",
       "      <td>19.195846</td>\n",
       "      <td>False</td>\n",
       "      <td>False</td>\n",
       "      <td>Sunny</td>\n",
       "      <td>133</td>\n",
       "      <td>0.372883</td>\n",
       "    </tr>\n",
       "    <tr>\n",
       "      <th>299853</th>\n",
       "      <td>East</td>\n",
       "      <td>Chalky</td>\n",
       "      <td>Wheat</td>\n",
       "      <td>104.038868</td>\n",
       "      <td>32.989997</td>\n",
       "      <td>False</td>\n",
       "      <td>False</td>\n",
       "      <td>Cloudy</td>\n",
       "      <td>60</td>\n",
       "      <td>0.251803</td>\n",
       "    </tr>\n",
       "  </tbody>\n",
       "</table>\n",
       "<p>1533 rows × 10 columns</p>\n",
       "</div>"
      ],
      "text/plain": [
       "       Region Soil_Type     Crop  Rainfall_mm  Temperature_Celsius  \\\n",
       "21      North      Loam   Barley   124.905360            18.364885   \n",
       "283     North      Silt   Barley   104.184363            26.131116   \n",
       "417      East      Silt    Maize   101.032473            21.909410   \n",
       "466     South      Clay  Soybean   149.022099            35.537714   \n",
       "613     North     Peaty   Cotton   134.904269            19.810167   \n",
       "...       ...       ...      ...          ...                  ...   \n",
       "298840  North     Peaty   Barley   113.408452            26.885352   \n",
       "299189  North    Chalky  Soybean   142.024097            25.566238   \n",
       "299506   East     Peaty    Wheat   119.085638            24.208382   \n",
       "299520  South    Chalky     Rice   129.448089            19.195846   \n",
       "299853   East    Chalky    Wheat   104.038868            32.989997   \n",
       "\n",
       "        Fertilizer_Used  Irrigation_Used Weather_Condition  Days_to_Harvest  \\\n",
       "21                False            False             Sunny               68   \n",
       "283               False            False             Rainy               83   \n",
       "417               False            False            Cloudy              108   \n",
       "466               False            False            Cloudy              127   \n",
       "613               False            False             Sunny               71   \n",
       "...                 ...              ...               ...              ...   \n",
       "298840            False            False             Rainy              119   \n",
       "299189            False            False             Rainy               69   \n",
       "299506            False            False             Rainy              147   \n",
       "299520            False            False             Sunny              133   \n",
       "299853            False            False            Cloudy               60   \n",
       "\n",
       "        Yield_tons_per_hectare  \n",
       "21                    0.581955  \n",
       "283                   0.845366  \n",
       "417                   0.537770  \n",
       "466                   0.913425  \n",
       "613                   0.330198  \n",
       "...                        ...  \n",
       "298840                0.735514  \n",
       "299189                0.960297  \n",
       "299506                0.939540  \n",
       "299520                0.372883  \n",
       "299853                0.251803  \n",
       "\n",
       "[1533 rows x 10 columns]"
      ]
     },
     "execution_count": 41,
     "metadata": {},
     "output_type": "execute_result"
    }
   ],
   "source": [
    "df[df['Rainfall_mm'] < 150][df['Yield_tons_per_hectare'] < 1]\n",
    "# df['Yield_tons_per_hectare'] = abs(df['Yield_tons_per_hectare'])"
   ]
  },
  {
   "cell_type": "markdown",
   "id": "ea0d0a14",
   "metadata": {},
   "source": [
    "No Crop which is not affected by Rainfall\n",
    "\n",
    "Less Rainfall + Not using both Irrigation and Fertilizer Yields Tons Per Hectare Falls Down"
   ]
  },
  {
   "cell_type": "markdown",
   "id": "700b07b0",
   "metadata": {},
   "source": [
    "Do Crops Produce Same Yield Tons Per Hectare for all Weather Conditions?"
   ]
  },
  {
   "cell_type": "code",
   "execution_count": 16,
   "id": "2263d302",
   "metadata": {},
   "outputs": [
    {
     "data": {
      "application/vnd.microsoft.datawrangler.viewer.v0+json": {
       "columns": [
        {
         "name": "index",
         "rawType": "int64",
         "type": "integer"
        },
        {
         "name": "Crop",
         "rawType": "object",
         "type": "string"
        },
        {
         "name": "Weather_Condition",
         "rawType": "object",
         "type": "string"
        },
        {
         "name": "Yield_tons_per_hectare",
         "rawType": "float64",
         "type": "float"
        }
       ],
       "ref": "66703ffe-c501-4d8b-be6e-e894a6ae2d27",
       "rows": [
        [
         "0",
         "Barley",
         "Cloudy",
         "4.653002109116244"
        ],
        [
         "1",
         "Barley",
         "Rainy",
         "4.612719002093918"
        ],
        [
         "2",
         "Barley",
         "Sunny",
         "4.659637626859797"
        ],
        [
         "3",
         "Cotton",
         "Cloudy",
         "4.640865697924097"
        ],
        [
         "4",
         "Cotton",
         "Rainy",
         "4.659072344469119"
        ],
        [
         "5",
         "Cotton",
         "Sunny",
         "4.643901351242681"
        ],
        [
         "6",
         "Maize",
         "Cloudy",
         "4.632244334527333"
        ],
        [
         "7",
         "Maize",
         "Rainy",
         "4.646964820229813"
        ],
        [
         "8",
         "Maize",
         "Sunny",
         "4.651159133153454"
        ],
        [
         "9",
         "Rice",
         "Cloudy",
         "4.641927936661948"
        ],
        [
         "10",
         "Rice",
         "Rainy",
         "4.663405349161275"
        ],
        [
         "11",
         "Rice",
         "Sunny",
         "4.654320664597183"
        ],
        [
         "12",
         "Soybean",
         "Cloudy",
         "4.64403046493399"
        ],
        [
         "13",
         "Soybean",
         "Rainy",
         "4.675016714974603"
        ],
        [
         "14",
         "Soybean",
         "Sunny",
         "4.640299037794043"
        ],
        [
         "15",
         "Wheat",
         "Cloudy",
         "4.658366611884318"
        ],
        [
         "16",
         "Wheat",
         "Rainy",
         "4.659140521773503"
        ],
        [
         "17",
         "Wheat",
         "Sunny",
         "4.648279556126712"
        ]
       ],
       "shape": {
        "columns": 3,
        "rows": 18
       }
      },
      "text/html": [
       "<div>\n",
       "<style scoped>\n",
       "    .dataframe tbody tr th:only-of-type {\n",
       "        vertical-align: middle;\n",
       "    }\n",
       "\n",
       "    .dataframe tbody tr th {\n",
       "        vertical-align: top;\n",
       "    }\n",
       "\n",
       "    .dataframe thead th {\n",
       "        text-align: right;\n",
       "    }\n",
       "</style>\n",
       "<table border=\"1\" class=\"dataframe\">\n",
       "  <thead>\n",
       "    <tr style=\"text-align: right;\">\n",
       "      <th></th>\n",
       "      <th>Crop</th>\n",
       "      <th>Weather_Condition</th>\n",
       "      <th>Yield_tons_per_hectare</th>\n",
       "    </tr>\n",
       "  </thead>\n",
       "  <tbody>\n",
       "    <tr>\n",
       "      <th>0</th>\n",
       "      <td>Barley</td>\n",
       "      <td>Cloudy</td>\n",
       "      <td>4.653002</td>\n",
       "    </tr>\n",
       "    <tr>\n",
       "      <th>1</th>\n",
       "      <td>Barley</td>\n",
       "      <td>Rainy</td>\n",
       "      <td>4.612719</td>\n",
       "    </tr>\n",
       "    <tr>\n",
       "      <th>2</th>\n",
       "      <td>Barley</td>\n",
       "      <td>Sunny</td>\n",
       "      <td>4.659638</td>\n",
       "    </tr>\n",
       "    <tr>\n",
       "      <th>3</th>\n",
       "      <td>Cotton</td>\n",
       "      <td>Cloudy</td>\n",
       "      <td>4.640866</td>\n",
       "    </tr>\n",
       "    <tr>\n",
       "      <th>4</th>\n",
       "      <td>Cotton</td>\n",
       "      <td>Rainy</td>\n",
       "      <td>4.659072</td>\n",
       "    </tr>\n",
       "    <tr>\n",
       "      <th>5</th>\n",
       "      <td>Cotton</td>\n",
       "      <td>Sunny</td>\n",
       "      <td>4.643901</td>\n",
       "    </tr>\n",
       "    <tr>\n",
       "      <th>6</th>\n",
       "      <td>Maize</td>\n",
       "      <td>Cloudy</td>\n",
       "      <td>4.632244</td>\n",
       "    </tr>\n",
       "    <tr>\n",
       "      <th>7</th>\n",
       "      <td>Maize</td>\n",
       "      <td>Rainy</td>\n",
       "      <td>4.646965</td>\n",
       "    </tr>\n",
       "    <tr>\n",
       "      <th>8</th>\n",
       "      <td>Maize</td>\n",
       "      <td>Sunny</td>\n",
       "      <td>4.651159</td>\n",
       "    </tr>\n",
       "    <tr>\n",
       "      <th>9</th>\n",
       "      <td>Rice</td>\n",
       "      <td>Cloudy</td>\n",
       "      <td>4.641928</td>\n",
       "    </tr>\n",
       "    <tr>\n",
       "      <th>10</th>\n",
       "      <td>Rice</td>\n",
       "      <td>Rainy</td>\n",
       "      <td>4.663405</td>\n",
       "    </tr>\n",
       "    <tr>\n",
       "      <th>11</th>\n",
       "      <td>Rice</td>\n",
       "      <td>Sunny</td>\n",
       "      <td>4.654321</td>\n",
       "    </tr>\n",
       "    <tr>\n",
       "      <th>12</th>\n",
       "      <td>Soybean</td>\n",
       "      <td>Cloudy</td>\n",
       "      <td>4.644030</td>\n",
       "    </tr>\n",
       "    <tr>\n",
       "      <th>13</th>\n",
       "      <td>Soybean</td>\n",
       "      <td>Rainy</td>\n",
       "      <td>4.675017</td>\n",
       "    </tr>\n",
       "    <tr>\n",
       "      <th>14</th>\n",
       "      <td>Soybean</td>\n",
       "      <td>Sunny</td>\n",
       "      <td>4.640299</td>\n",
       "    </tr>\n",
       "    <tr>\n",
       "      <th>15</th>\n",
       "      <td>Wheat</td>\n",
       "      <td>Cloudy</td>\n",
       "      <td>4.658367</td>\n",
       "    </tr>\n",
       "    <tr>\n",
       "      <th>16</th>\n",
       "      <td>Wheat</td>\n",
       "      <td>Rainy</td>\n",
       "      <td>4.659141</td>\n",
       "    </tr>\n",
       "    <tr>\n",
       "      <th>17</th>\n",
       "      <td>Wheat</td>\n",
       "      <td>Sunny</td>\n",
       "      <td>4.648280</td>\n",
       "    </tr>\n",
       "  </tbody>\n",
       "</table>\n",
       "</div>"
      ],
      "text/plain": [
       "       Crop Weather_Condition  Yield_tons_per_hectare\n",
       "0    Barley            Cloudy                4.653002\n",
       "1    Barley             Rainy                4.612719\n",
       "2    Barley             Sunny                4.659638\n",
       "3    Cotton            Cloudy                4.640866\n",
       "4    Cotton             Rainy                4.659072\n",
       "5    Cotton             Sunny                4.643901\n",
       "6     Maize            Cloudy                4.632244\n",
       "7     Maize             Rainy                4.646965\n",
       "8     Maize             Sunny                4.651159\n",
       "9      Rice            Cloudy                4.641928\n",
       "10     Rice             Rainy                4.663405\n",
       "11     Rice             Sunny                4.654321\n",
       "12  Soybean            Cloudy                4.644030\n",
       "13  Soybean             Rainy                4.675017\n",
       "14  Soybean             Sunny                4.640299\n",
       "15    Wheat            Cloudy                4.658367\n",
       "16    Wheat             Rainy                4.659141\n",
       "17    Wheat             Sunny                4.648280"
      ]
     },
     "execution_count": 16,
     "metadata": {},
     "output_type": "execute_result"
    }
   ],
   "source": [
    "df_yield_crop_weather = df[['Yield_tons_per_hectare' , 'Crop', 'Weather_Condition']].groupby(['Crop', 'Weather_Condition']).mean()\n",
    "df_yield_crop_weather = df_yield_crop_weather.reset_index()\n",
    "df_yield_crop_weather"
   ]
  },
  {
   "cell_type": "markdown",
   "id": "ecd08fe6",
   "metadata": {},
   "source": [
    "Above Summary Table Shows How much Tons Of Yield Produced By Crops In Different Weather Condition.\n",
    "\n",
    "**Interpretation**\n",
    "\n",
    "1. Barley Crop Produce more Tons in Sunny Condition with Small Difference average tons of 0.006 to Cloudy\n",
    "2. Cotton Produce More In Rainy Condition\n",
    "3. Maize Produce More In Sunny Condition\n",
    "4. Rice Produce More In Rainy Condition\n",
    "5. SoyBean Produce More In Rainy Condition\n",
    "6. Wheat Produce More Both In Cloudy and Rainy Condition"
   ]
  },
  {
   "cell_type": "code",
   "execution_count": 18,
   "id": "2705fdd0",
   "metadata": {},
   "outputs": [
    {
     "data": {
      "image/png": "[encoded data removed]",
      "text/plain": [
       "<Figure size 640x480 with 1 Axes>"
      ]
     },
     "metadata": {},
     "output_type": "display_data"
    }
   ],
   "source": [
    "plt.title(\"Crop Yield Tons Per Hectare By Weather Condition\")\n",
    "plt.xlabel(\"Crop\")\n",
    "plt.ylabel(\"Yield Tons Per Hectare\")\n",
    "sns.barplot(x='Crop', y='Yield_tons_per_hectare', hue='Weather_Condition', data=df_yield_crop_weather)\n",
    "plt.savefig(r'D:\\All_Projects\\Econometrics_Practice\\report\\charts\\crop_yield_on_weather_condition.png', dpi=300, bbox_inches='tight')"
   ]
  },
  {
   "cell_type": "markdown",
   "id": "abaf8916",
   "metadata": {},
   "source": [
    "Above Chart Represent How much Average Of Crop Yield Tons On Different Weather Condtion"
   ]
  },
  {
   "cell_type": "markdown",
   "id": "3cb9e191",
   "metadata": {},
   "source": [
    "**Hypothesis Testing**\n",
    "\n",
    "1. (Null Hypothesis) Weather Condition Does Not Affect Yiel Tons Per Hectare\n",
    "2. (Alternative Hypothesis) Weather Condition Affects Yiel Tons Per Hectare\n",
    "\n",
    "**Analysis Of Variance** "
   ]
  },
  {
   "cell_type": "code",
   "execution_count": 58,
   "metadata": {},
   "outputs": [
    {
     "name": "stdout",
     "output_type": "stream",
     "text": [
      "F-Statistic: 0.5040488829843764\n",
      "P-Value: 0.6040803645415846\n",
      "\n",
      "Since 0.6040803645415846 is Greater Than Or Equal To 0.05\n",
      "\n",
      "Conclusion:\n",
      "There is no Statistically Significant difference between mean of Crop Yield Tons Across All Weather Conditions\n"
     ]
    }
   ],
   "source": [
    "weather_conditions = [df['Yield_tons_per_hectare'][df['Weather_Condition'] == condition] for condition in df['Weather_Condition'].unique()]\n",
    "\n",
    "f_stat, p_value_anova = stats.f_oneway(*weather_conditions)\n",
    "\n",
    "print(f\"F-Statistic: {f_stat}\\nP-Value: {p_value_anova}\\n\")\n",
    "alpha = 0.05\n",
    "if p_value_anova < alpha:\n",
    "    print(f\"Since {p_value_anova} is Less Than {alpha}\")\n",
    "    print(\"Conclusion:\\nThere is Statistically Significant difference between mean of Crop Yield Tons Across All Weather Conditions\")\n",
    "\n",
    "else:    \n",
    "    print(f\"Since {p_value_anova} is Greater Than Or Equal To {alpha}\\n\")\n",
    "    print(\"Conclusion:\\nThere is no Statistically Significant difference between mean of Crop Yield Tons Across All Weather Conditions\")\n",
    "    \n",
    "    \n",
    "    "
   ]
  },
  {
   "cell_type": "code",
   "execution_count": 60,
   "id": "3bb33809",
   "metadata": {},
   "outputs": [
    {
     "name": "stdout",
     "output_type": "stream",
     "text": [
      "Multiple Comparison of Means - Tukey HSD, FWER=0.05\n",
      "===================================================\n",
      "group1 group2 meandiff p-adj   lower  upper  reject\n",
      "---------------------------------------------------\n",
      "Cloudy  Rainy   0.0076 0.5783 -0.0102 0.0253  False\n",
      "Cloudy  Sunny   0.0045 0.8213 -0.0132 0.0223  False\n",
      " Rainy  Sunny   -0.003 0.9154 -0.0208 0.0147  False\n",
      "---------------------------------------------------\n",
      "\n",
      "\n"
     ]
    },
    {
     "data": {
      "image/png": "[encoded data removed]",
      "text/plain": [
       "<Figure size 1000x600 with 1 Axes>"
      ]
     },
     "metadata": {},
     "output_type": "display_data"
    }
   ],
   "source": [
    "tukey_result = pairwise_tukeyhsd(endog=df['Yield_tons_per_hectare'],\n",
    "                          groups=df['Weather_Condition'],\n",
    "                          alpha=alpha)\n",
    "print(tukey_result)\n",
    "print('\\n')\n",
    "tukey_result.plot_simultaneous()\n",
    "\n",
    "plt.title(\"Tukey's HSD Post-hoc Test\")\n",
    "plt.xlabel(\"Group Mean\")\n",
    "plt.show()"
   ]
  },
  {
   "cell_type": "markdown",
   "id": "2944856a",
   "metadata": {},
   "source": [
    "Above Figure Shows Mean Group Difference with All Groups\n",
    "\n",
    "**meandiff:** Shows Difference Between Mean Of Two Groups.\n",
    "\n",
    "**reject:** Shows If The Null Hypothesis is Rejected with respect To That group True Means Rejecting Null Hypothesis, False Means fail to Reject Null Hypothesis\n",
    "\n",
    "**lower** and **upper:** \\\n",
    "Shows Confidence Interval For The Mean Difference, Present of **0** means There is No Statistically Significant Difference among Two Groups"
   ]
  },
  {
   "cell_type": "code",
   "execution_count": 62,
   "metadata": {},
   "outputs": [
    {
     "data": {
      "application/vnd.microsoft.datawrangler.viewer.v0+json": {
       "columns": [
        {
         "name": "index",
         "rawType": "int64",
         "type": "integer"
        },
        {
         "name": "Region",
         "rawType": "object",
         "type": "string"
        },
        {
         "name": "Soil_Type",
         "rawType": "object",
         "type": "string"
        },
        {
         "name": "Crop",
         "rawType": "object",
         "type": "string"
        },
        {
         "name": "Rainfall_mm",
         "rawType": "float64",
         "type": "float"
        },
        {
         "name": "Temperature_Celsius",
         "rawType": "float64",
         "type": "float"
        },
        {
         "name": "Fertilizer_Used",
         "rawType": "bool",
         "type": "boolean"
        },
        {
         "name": "Irrigation_Used",
         "rawType": "bool",
         "type": "boolean"
        },
        {
         "name": "Weather_Condition",
         "rawType": "object",
         "type": "string"
        },
        {
         "name": "Days_to_Harvest",
         "rawType": "int64",
         "type": "integer"
        },
        {
         "name": "Yield_tons_per_hectare",
         "rawType": "float64",
         "type": "float"
        }
       ],
       "ref": "6621a427-b92b-4e27-9a2d-4034027adfaa",
       "rows": [
        [
         "0",
         "North",
         "Chalky",
         "Maize",
         "676.9782118308045",
         "16.811721687072442",
         "False",
         "False",
         "Rainy",
         "117",
         "4.505291294879509"
        ],
        [
         "1",
         "South",
         "Loam",
         "Cotton",
         "965.1788327593878",
         "37.331926261988",
         "False",
         "True",
         "Rainy",
         "134",
         "7.155131906621406"
        ],
        [
         "2",
         "North",
         "Peaty",
         "Barley",
         "619.4187972763842",
         "18.318037726365592",
         "False",
         "True",
         "Cloudy",
         "97",
         "5.298954329612731"
        ],
        [
         "3",
         "South",
         "Loam",
         "Maize",
         "160.1061844444364",
         "38.14205256145322",
         "False",
         "False",
         "Sunny",
         "141",
         "1.6523560858058706"
        ],
        [
         "4",
         "East",
         "Clay",
         "Cotton",
         "940.097532470672",
         "21.723534888294708",
         "False",
         "False",
         "Rainy",
         "117",
         "5.824153555941789"
        ]
       ],
       "shape": {
        "columns": 10,
        "rows": 5
       }
      },
      "text/html": [
       "<div>\n",
       "<style scoped>\n",
       "    .dataframe tbody tr th:only-of-type {\n",
       "        vertical-align: middle;\n",
       "    }\n",
       "\n",
       "    .dataframe tbody tr th {\n",
       "        vertical-align: top;\n",
       "    }\n",
       "\n",
       "    .dataframe thead th {\n",
       "        text-align: right;\n",
       "    }\n",
       "</style>\n",
       "<table border=\"1\" class=\"dataframe\">\n",
       "  <thead>\n",
       "    <tr style=\"text-align: right;\">\n",
       "      <th></th>\n",
       "      <th>Region</th>\n",
       "      <th>Soil_Type</th>\n",
       "      <th>Crop</th>\n",
       "      <th>Rainfall_mm</th>\n",
       "      <th>Temperature_Celsius</th>\n",
       "      <th>Fertilizer_Used</th>\n",
       "      <th>Irrigation_Used</th>\n",
       "      <th>Weather_Condition</th>\n",
       "      <th>Days_to_Harvest</th>\n",
       "      <th>Yield_tons_per_hectare</th>\n",
       "    </tr>\n",
       "  </thead>\n",
       "  <tbody>\n",
       "    <tr>\n",
       "      <th>0</th>\n",
       "      <td>North</td>\n",
       "      <td>Chalky</td>\n",
       "      <td>Maize</td>\n",
       "      <td>676.978212</td>\n",
       "      <td>16.811722</td>\n",
       "      <td>False</td>\n",
       "      <td>False</td>\n",
       "      <td>Rainy</td>\n",
       "      <td>117</td>\n",
       "      <td>4.505291</td>\n",
       "    </tr>\n",
       "    <tr>\n",
       "      <th>1</th>\n",
       "      <td>South</td>\n",
       "      <td>Loam</td>\n",
       "      <td>Cotton</td>\n",
       "      <td>965.178833</td>\n",
       "      <td>37.331926</td>\n",
       "      <td>False</td>\n",
       "      <td>True</td>\n",
       "      <td>Rainy</td>\n",
       "      <td>134</td>\n",
       "      <td>7.155132</td>\n",
       "    </tr>\n",
       "    <tr>\n",
       "      <th>2</th>\n",
       "      <td>North</td>\n",
       "      <td>Peaty</td>\n",
       "      <td>Barley</td>\n",
       "      <td>619.418797</td>\n",
       "      <td>18.318038</td>\n",
       "      <td>False</td>\n",
       "      <td>True</td>\n",
       "      <td>Cloudy</td>\n",
       "      <td>97</td>\n",
       "      <td>5.298954</td>\n",
       "    </tr>\n",
       "    <tr>\n",
       "      <th>3</th>\n",
       "      <td>South</td>\n",
       "      <td>Loam</td>\n",
       "      <td>Maize</td>\n",
       "      <td>160.106184</td>\n",
       "      <td>38.142053</td>\n",
       "      <td>False</td>\n",
       "      <td>False</td>\n",
       "      <td>Sunny</td>\n",
       "      <td>141</td>\n",
       "      <td>1.652356</td>\n",
       "    </tr>\n",
       "    <tr>\n",
       "      <th>4</th>\n",
       "      <td>East</td>\n",
       "      <td>Clay</td>\n",
       "      <td>Cotton</td>\n",
       "      <td>940.097532</td>\n",
       "      <td>21.723535</td>\n",
       "      <td>False</td>\n",
       "      <td>False</td>\n",
       "      <td>Rainy</td>\n",
       "      <td>117</td>\n",
       "      <td>5.824154</td>\n",
       "    </tr>\n",
       "  </tbody>\n",
       "</table>\n",
       "</div>"
      ],
      "text/plain": [
       "  Region Soil_Type    Crop  Rainfall_mm  Temperature_Celsius  Fertilizer_Used  \\\n",
       "0  North    Chalky   Maize   676.978212            16.811722            False   \n",
       "1  South      Loam  Cotton   965.178833            37.331926            False   \n",
       "2  North     Peaty  Barley   619.418797            18.318038            False   \n",
       "3  South      Loam   Maize   160.106184            38.142053            False   \n",
       "4   East      Clay  Cotton   940.097532            21.723535            False   \n",
       "\n",
       "   Irrigation_Used Weather_Condition  Days_to_Harvest  Yield_tons_per_hectare  \n",
       "0            False             Rainy              117                4.505291  \n",
       "1             True             Rainy              134                7.155132  \n",
       "2             True            Cloudy               97                5.298954  \n",
       "3            False             Sunny              141                1.652356  \n",
       "4            False             Rainy              117                5.824154  "
      ]
     },
     "execution_count": 62,
     "metadata": {},
     "output_type": "execute_result"
    }
   ],
   "source": [
    "df.head()"
   ]
  }
 ],
 "metadata": {
  "kernelspec": {
   "display_name": "lrp",
   "language": "python",
   "name": "python3"
  },
  "language_info": {
   "codemirror_mode": {
    "name": "ipython",
    "version": 3
   },
   "file_extension": ".py",
   "mimetype": "text/x-python",
   "name": "python",
   "nbconvert_exporter": "python",
   "pygments_lexer": "ipython3",
   "version": "3.13.5"
  }
 },
 "nbformat": 4,
 "nbformat_minor": 5
}
